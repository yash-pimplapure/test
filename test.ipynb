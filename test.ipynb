{
 "cells": [
  {
   "cell_type": "code",
   "execution_count": 27,
   "id": "e8cc9415",
   "metadata": {},
   "outputs": [
    {
     "name": "stdout",
     "output_type": "stream",
     "text": [
      "Your annual premium is Rs 36750\n"
     ]
    }
   ],
   "source": [
    "def calculate_health_premium(gender, birth_year, smoker):\n",
    "    \n",
    "    MALE_BASE_PREMIUM = 35000\n",
    "    FEMALE_BASE_PREMIUM = 30000\n",
    "    SMOKER_SURCHARGE = 0.05  \n",
    "    NON_SMOKER_DISCOUNT = 0.10  \n",
    "\n",
    "    \n",
    "    current_year = 2024\n",
    "    age = current_year - birth_year\n",
    "\n",
    "    \n",
    "    if gender.lower() == 'male':\n",
    "        base_premium = MALE_BASE_PREMIUM\n",
    "    elif gender.lower() == 'female':\n",
    "        base_premium = FEMALE_BASE_PREMIUM\n",
    "    else:\n",
    "        return \"Invalid gender.\"\n",
    "\n",
    "  \n",
    "    if smoker.lower() == 'yes':\n",
    "        premium = base_premium\n",
    "        if 1990 <= birth_year <= 2000:\n",
    "            premium += SMOKER_SURCHARGE * base_premium\n",
    "    elif smoker.lower() == 'no':\n",
    "        premium = base_premium * (1 - NON_SMOKER_DISCOUNT)\n",
    "    else:\n",
    "        return \"Invalid smoker status.\"\n",
    "\n",
    "    \n",
    "    if 1970 <= birth_year <= 1990:\n",
    "        if smoker.lower() == 'yes':\n",
    "            premium = 40000\n",
    "        else:\n",
    "            premium = 35000\n",
    "\n",
    "    return f\"Your annual premium is Rs {int(premium)}\"\n",
    "\n",
    "\n",
    "print(calculate_health_premium(gender='male', birth_year=1995, smoker='yes'))\n",
    "\n",
    "        \n",
    "    \n",
    "    \n"
   ]
  },
  {
   "cell_type": "code",
   "execution_count": null,
   "id": "a2db3499",
   "metadata": {},
   "outputs": [],
   "source": []
  }
 ],
 "metadata": {
  "kernelspec": {
   "display_name": "Python 3 (ipykernel)",
   "language": "python",
   "name": "python3"
  },
  "language_info": {
   "codemirror_mode": {
    "name": "ipython",
    "version": 3
   },
   "file_extension": ".py",
   "mimetype": "text/x-python",
   "name": "python",
   "nbconvert_exporter": "python",
   "pygments_lexer": "ipython3",
   "version": "3.9.7"
  }
 },
 "nbformat": 4,
 "nbformat_minor": 5
}
